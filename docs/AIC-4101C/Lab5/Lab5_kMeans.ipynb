{
 "cells": [
  {
   "cell_type": "markdown",
   "metadata": {},
   "source": [
    "# Machine learning (AIC-4101C)\n",
    "\n",
    "The $k$-means' algorithm (also called Lloyd's algorithm) computes a partition of a set **S** of observations into $k$ subsets. It is composed of an initialization step (randomly choosing an initial partition, or equivalently, the barycenters of each subsets), and two repeated steps until convergence of the method (the partition does not change) :\n",
    "\n",
    "- **Assignment** : each observation is associated to the partition of the closest barycenter \n",
    "\n",
    "$${\\large S_i^{(t)} = \\left\\{\\mathbf{x}_j : \\|\\mathbf{x}_j - \\mathbf{m}_i^{(t)} \\| \\leq \\|\\mathbf{x}_j - \\mathbf{m}_{i^*}^{(t)} \\|, \\forall i^* = 1, \\dots, k \\right\\} }$$\n",
    "\n",
    "- **Update** : recompute the barycenter of each partition $${\\large\\mathbf{m}_i^{(t+1)} = \\frac{1}{| S_i^{(t)} |} \\sum_{\\mathbf{x_j} \\in S_i^{(t)}} \\mathbf{x}_j}$$\n",
    "\n",
    "This algorithm finds a local minimum of the cost function $${\\large \\sum_{i=1}^k \\sum_{\\mathbf{x}_j \\in S_i} \\| \\mathbf{x}_j - m_i \\|^2}$$\n",
    "This function represents the global error when each observation is replaced by the barycenter of its class.\n",
    "\n",
    ">Show that both steps minimize the cost function"
   ]
  },
  {
   "cell_type": "markdown",
   "metadata": {},
   "source": [
    "- Assigment : by definition it minimizes all the distances.\n",
    "- Update : we have seen that the mean value, that is $\\mathbf{m}$, minimizes the euclidean distance. For example, we did that for Linear regression."
   ]
  },
  {
   "cell_type": "markdown",
   "metadata": {},
   "source": [
    ">Show that the algorithm converges. "
   ]
  },
  {
   "cell_type": "markdown",
   "metadata": {},
   "source": [
    "The number of possible permutations is finite."
   ]
  },
  {
   "cell_type": "markdown",
   "metadata": {},
   "source": [
    ">Implement the functions of each step of the algorithm :\n",
    "- initialisation (take the $k$ first points as barycenters)\n",
    "- assignment\n",
    "- update\n",
    "- loop\n",
    "\n",
    "The loop function should save the cost function of each iteration, so that you can plot its evolution."
   ]
  },
  {
   "cell_type": "code",
   "execution_count": 2,
   "metadata": {},
   "outputs": [
    {
     "name": "stdout",
     "output_type": "stream",
     "text": [
      "\n",
      "Packages:\n",
      "    numpy as np\n",
      "    matplotlib.pyplot as plt\n",
      "\n",
      "Functions:\n",
      "    plotXY\n",
      "    plot_frontiere\n",
      "    map_regions\n",
      "\n"
     ]
    }
   ],
   "source": [
    "from mllab import *"
   ]
  },
  {
   "cell_type": "code",
   "execution_count": 3,
   "metadata": {},
   "outputs": [],
   "source": []
  },
  {
   "cell_type": "markdown",
   "metadata": {},
   "source": [
    ">Apply your method on generated data and check that your cost function is decreasing."
   ]
  },
  {
   "cell_type": "code",
   "execution_count": null,
   "metadata": {},
   "outputs": [],
   "source": []
  },
  {
   "cell_type": "markdown",
   "metadata": {},
   "source": [
    "The quality of the local minimum depends on the initial choice of barycenters : we know that the minimum can be arbitrarily bad and that the worst case is reached in practice. Different strategies have been proposed.\n",
    "\n",
    "The simplest one is the one we implemented : choose the $k$ first points of our set.\n",
    "\n",
    ">Show with a simple example that we can converge to a bad local minimum."
   ]
  },
  {
   "cell_type": "code",
   "execution_count": null,
   "metadata": {},
   "outputs": [],
   "source": []
  },
  {
   "cell_type": "markdown",
   "metadata": {},
   "source": [
    "The most used method is to choose randomly those $k$ points amongst the data set.\n",
    "\n",
    ">Write an initialization function using that strategy. Is this method better that the previous one ? How would you improve it ?"
   ]
  },
  {
   "cell_type": "code",
   "execution_count": null,
   "metadata": {},
   "outputs": [],
   "source": []
  },
  {
   "cell_type": "markdown",
   "metadata": {},
   "source": [
    "The $k$-means++ strategy gives us a warranty of approximate our local minimum in a $O(\\log k)$ time :\n",
    "- Choose a first barycenter $c_1$ randomly.\n",
    "- Given the $p$-first barycenters $c_1, \\dots, c_p$, choose point $x$ to be barycenter $c_{p+1}$ with probability ${\\large \\frac{D(x)}{\\sum_{i=1}^n D(x_i)}}$, where $D(x) = \\min_{1 \\leq i \\leq p} \\| x - c_i \\|$\n",
    "\n",
    ">Write an initialization function using that method."
   ]
  },
  {
   "cell_type": "code",
   "execution_count": null,
   "metadata": {},
   "outputs": [],
   "source": []
  },
  {
   "cell_type": "markdown",
   "metadata": {},
   "source": [
    ">Compare the cost functions with the two different methods."
   ]
  },
  {
   "cell_type": "code",
   "execution_count": null,
   "metadata": {},
   "outputs": [],
   "source": []
  }
 ],
 "metadata": {
  "celltoolbar": "Format de la Cellule Texte Brut",
  "kernelspec": {
   "display_name": "Python 3 (ipykernel)",
   "language": "python",
   "name": "python3"
  },
  "language_info": {
   "codemirror_mode": {
    "name": "ipython",
    "version": 3
   },
   "file_extension": ".py",
   "mimetype": "text/x-python",
   "name": "python",
   "nbconvert_exporter": "python",
   "pygments_lexer": "ipython3",
   "version": "3.9.5"
  }
 },
 "nbformat": 4,
 "nbformat_minor": 4
}
